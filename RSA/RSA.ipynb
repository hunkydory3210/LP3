{
 "cells": [
  {
   "cell_type": "code",
   "execution_count": 218,
   "metadata": {},
   "outputs": [],
   "source": [
    "import random"
   ]
  },
  {
   "cell_type": "code",
   "execution_count": 219,
   "metadata": {},
   "outputs": [],
   "source": [
    "def is_prime_number(number):\n",
    "    if number > 1:\n",
    "        for i in range(2, number//2):\n",
    "            if number%i == 0:\n",
    "                return False\n",
    "        return True\n",
    "    else:\n",
    "        return False"
   ]
  },
  {
   "cell_type": "code",
   "execution_count": 220,
   "metadata": {},
   "outputs": [],
   "source": [
    "def get_prime_number():\n",
    "    while True:\n",
    "        integer = random.getrandbits(10)\n",
    "        #print(integer)\n",
    "        if is_prime_number(integer):\n",
    "            return integer"
   ]
  },
  {
   "cell_type": "code",
   "execution_count": 221,
   "metadata": {},
   "outputs": [],
   "source": [
    "# 269280, 3\n",
    "def find_gcd(a, b):\n",
    "    if a > b: \n",
    "        small = b \n",
    "    else: \n",
    "        small = a\n",
    "    for i in range(1, small+1): \n",
    "        if((a % i == 0) and (b % i == 0)): \n",
    "            gcd = i \n",
    "              \n",
    "    return gcd "
   ]
  },
  {
   "cell_type": "code",
   "execution_count": 222,
   "metadata": {},
   "outputs": [],
   "source": [
    "def are_coprimes(a, b):\n",
    "    if find_gcd(a, b) == 1:\n",
    "        return True\n",
    "    else:\n",
    "        return False"
   ]
  },
  {
   "cell_type": "code",
   "execution_count": 223,
   "metadata": {},
   "outputs": [],
   "source": [
    "def get_coprime(phi, nth):\n",
    "    count = 0\n",
    "    coprime = 2\n",
    "    while True:\n",
    "        \n",
    "        if are_coprimes(coprime, phi):\n",
    "            count = count + 1\n",
    "            if count == nth:\n",
    "                return coprime\n",
    "            else:\n",
    "                coprime = coprime+1\n",
    "        else:\n",
    "            coprime = coprime+1"
   ]
  },
  {
   "cell_type": "code",
   "execution_count": 224,
   "metadata": {},
   "outputs": [],
   "source": [
    "def get_decryption_key(encryption_key, phi, nth):\n",
    "    decryption_key = 0\n",
    "    i = 1\n",
    "    count = 0\n",
    "    while True:\n",
    "        decryption_key = ((phi * i) + 1) / encryption_key\n",
    "        if decryption_key.is_integer():\n",
    "            count += 1\n",
    "            if count == nth:\n",
    "                return decryption_key\n",
    "            else:\n",
    "                i += 1\n",
    "        else:\n",
    "            i = i + 1"
   ]
  },
  {
   "cell_type": "code",
   "execution_count": 225,
   "metadata": {},
   "outputs": [
    {
     "name": "stdout",
     "output_type": "stream",
     "text": [
      "239 619\n"
     ]
    }
   ],
   "source": [
    "a = 0\n",
    "b = 0\n",
    "while a == b:\n",
    "    a = get_prime_number()\n",
    "    b = get_prime_number()\n",
    "\n",
    "print(a, b)"
   ]
  },
  {
   "cell_type": "code",
   "execution_count": 226,
   "metadata": {},
   "outputs": [
    {
     "data": {
      "text/plain": [
       "147084"
      ]
     },
     "execution_count": 226,
     "metadata": {},
     "output_type": "execute_result"
    }
   ],
   "source": [
    "n = a*b\n",
    "phi = (a-1)*(b-1)\n",
    "phi"
   ]
  },
  {
   "cell_type": "code",
   "execution_count": 227,
   "metadata": {},
   "outputs": [
    {
     "data": {
      "text/plain": [
       "5"
      ]
     },
     "execution_count": 227,
     "metadata": {},
     "output_type": "execute_result"
    }
   ],
   "source": [
    "encryption_key = get_coprime(phi, 1)\n",
    "encryption_key"
   ]
  },
  {
   "cell_type": "code",
   "execution_count": 228,
   "metadata": {},
   "outputs": [
    {
     "data": {
      "text/plain": [
       "29417"
      ]
     },
     "execution_count": 228,
     "metadata": {},
     "output_type": "execute_result"
    }
   ],
   "source": [
    "decryption_key = int(get_decryption_key(encryption_key, phi, 1))\n",
    "decryption_key"
   ]
  },
  {
   "cell_type": "code",
   "execution_count": 229,
   "metadata": {},
   "outputs": [],
   "source": [
    "def encrypt_message(message, encryption_key, n):\n",
    "    return (message**encryption_key)%n\n",
    "    "
   ]
  },
  {
   "cell_type": "code",
   "execution_count": 230,
   "metadata": {},
   "outputs": [],
   "source": [
    "def decrypt_message(cipher, d, n1):\n",
    "    return (cipher**d)%n1"
   ]
  },
  {
   "cell_type": "code",
   "execution_count": 231,
   "metadata": {},
   "outputs": [
    {
     "data": {
      "text/plain": [
       "100000"
      ]
     },
     "execution_count": 231,
     "metadata": {},
     "output_type": "execute_result"
    }
   ],
   "source": [
    "encrypt_message(10, encryption_key, n)"
   ]
  },
  {
   "cell_type": "code",
   "execution_count": 233,
   "metadata": {},
   "outputs": [
    {
     "data": {
      "text/plain": [
       "10"
      ]
     },
     "execution_count": 233,
     "metadata": {},
     "output_type": "execute_result"
    }
   ],
   "source": [
    "decrypt_message(100000, decryption_key, n)"
   ]
  },
  {
   "cell_type": "code",
   "execution_count": null,
   "metadata": {},
   "outputs": [],
   "source": []
  }
 ],
 "metadata": {
  "kernelspec": {
   "display_name": "Python 3",
   "language": "python",
   "name": "python3"
  },
  "language_info": {
   "codemirror_mode": {
    "name": "ipython",
    "version": 3
   },
   "file_extension": ".py",
   "mimetype": "text/x-python",
   "name": "python",
   "nbconvert_exporter": "python",
   "pygments_lexer": "ipython3",
   "version": "3.7.2"
  }
 },
 "nbformat": 4,
 "nbformat_minor": 2
}
